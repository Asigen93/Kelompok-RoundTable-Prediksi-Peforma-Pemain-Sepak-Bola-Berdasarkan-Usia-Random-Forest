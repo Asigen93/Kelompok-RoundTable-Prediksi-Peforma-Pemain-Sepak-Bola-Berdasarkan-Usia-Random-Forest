{
  "cells": [
    {
      "cell_type": "markdown",
      "metadata": {
        "id": "view-in-github",
        "colab_type": "text"
      },
      "source": [
        "<a href=\"https://colab.research.google.com/github/Asigen93/Kelompok-RoundTable-Prediksi-Peforma-Pemain-Sepak-Bola-Berdasarkan-Usia-Random-Forest/blob/main/Prediksi%20Peforma%20Pemain%20Bola%20Berdasarkan%20Usia_Random%20Forest.ipynb\" target=\"_parent\"><img src=\"https://colab.research.google.com/assets/colab-badge.svg\" alt=\"Open In Colab\"/></a>"
      ]
    },
    {
      "cell_type": "markdown",
      "source": [
        "# **KELOMPOK RoundTable**\n",
        "1. Ahmad Sudrajat Dani Kalami\n",
        "2. Danish Fahmi Anugrah\n",
        "3. Teguh Chandra Baskara\n",
        "4. Tirta Romadhon Cipta Saputra\n",
        "\n",
        "Case yang kami angkat adalah \"Prediksi Performa Pemain Berdasarkan Usia\" kami menggunakan dataset fifa 18 yang kemudian kami olah dengan menggunakan algoritma \"Random Forest\" dengan diharapkan hasil yang diperoleh yaitu apakah performa pemain berpengaruh dengan usia mereka?"
      ],
      "metadata": {
        "id": "T-7_NxxrYPaD"
      }
    },
    {
      "cell_type": "markdown",
      "source": [
        "# **Import Library**"
      ],
      "metadata": {
        "id": "sTG5QJwgPz-V"
      }
    },
    {
      "cell_type": "code",
      "execution_count": 34,
      "metadata": {
        "id": "U9IPpX_KkziO"
      },
      "outputs": [],
      "source": [
        "import pandas as pd\n",
        "import numpy as np\n",
        "import matplotlib.pyplot as plt\n",
        "import seaborn as sns\n",
        "from sklearn.model_selection import train_test_split\n",
        "from sklearn.ensemble import RandomForestRegressor\n",
        "from sklearn.metrics import mean_squared_error"
      ]
    },
    {
      "cell_type": "markdown",
      "source": [
        "# **Load Dataset**"
      ],
      "metadata": {
        "id": "UKPjMXPHP42f"
      }
    },
    {
      "cell_type": "code",
      "execution_count": 35,
      "metadata": {
        "colab": {
          "base_uri": "https://localhost:8080/"
        },
        "id": "44M4JlgMlzlr",
        "outputId": "4d01052a-1ead-427f-909d-7123b08c964a"
      },
      "outputs": [
        {
          "output_type": "stream",
          "name": "stdout",
          "text": [
            "Drive already mounted at /content/drive; to attempt to forcibly remount, call drive.mount(\"/content/drive\", force_remount=True).\n"
          ]
        },
        {
          "output_type": "stream",
          "name": "stderr",
          "text": [
            "<ipython-input-35-9719668d82db>:7: DtypeWarning: Columns (16,18) have mixed types. Specify dtype option on import or set low_memory=False.\n",
            "  data = pd.read_csv(file_path, delimiter=';')\n"
          ]
        }
      ],
      "source": [
        "# Mount Google Drive\n",
        "from google.colab import drive\n",
        "drive.mount('/content/drive')\n",
        "\n",
        "# Baca file CSV dari Google Drive\n",
        "file_path = '/content/drive/MyDrive/Tirta/complete.csv'\n",
        "data = pd.read_csv(file_path, delimiter=';')"
      ]
    },
    {
      "cell_type": "markdown",
      "source": [
        "# **Pilih Kolom yang Relevan dan Tangani Nilai yang Hilang**"
      ],
      "metadata": {
        "id": "vvd539WtP_Hg"
      }
    },
    {
      "cell_type": "code",
      "source": [
        "# Pilih kolom yang relevan dan hapus baris dengan nilai yang hilang\n",
        "relevant_columns = ['age', 'height_cm', 'weight_kg', 'eur_value', 'potential', 'overall', 'pac', 'sho', 'pas', 'dri', 'def', 'phy']\n",
        "subset_data = data[relevant_columns].dropna()"
      ],
      "metadata": {
        "id": "uyVZ-FkILqgC"
      },
      "execution_count": 36,
      "outputs": []
    },
    {
      "cell_type": "markdown",
      "source": [
        "# **Mengonversi Kolom Relevan ke Tipe Data Numerik**"
      ],
      "metadata": {
        "id": "qD2fot0wR4Oh"
      }
    },
    {
      "cell_type": "code",
      "source": [
        "# Ubah semua kolom yang relevan menjadi numerik (jika tidak)\n",
        "for col in relevant_columns:\n",
        "    subset_data[col] = pd.to_numeric(subset_data[col], errors='coerce')"
      ],
      "metadata": {
        "id": "JLDVpCwhMr0u"
      },
      "execution_count": 37,
      "outputs": []
    },
    {
      "cell_type": "markdown",
      "source": [
        "# **Menghapus Baris yang Mengandung Nilai NaN Setelah Konversi**"
      ],
      "metadata": {
        "id": "WYuGvqyuR2Wx"
      }
    },
    {
      "cell_type": "code",
      "source": [
        "# Hapus baris apa pun yang telah menjadi NaN setelah konversi\n",
        "subset_data = subset_data.dropna()"
      ],
      "metadata": {
        "id": "RiiIi9E1MvWt"
      },
      "execution_count": 38,
      "outputs": []
    },
    {
      "cell_type": "markdown",
      "source": [
        "# **Data Preprocessing**"
      ],
      "metadata": {
        "id": "9lig8rCfQPer"
      }
    },
    {
      "cell_type": "code",
      "execution_count": 39,
      "metadata": {
        "id": "is7Z8a01l2KD"
      },
      "outputs": [],
      "source": [
        "# Memisahkan data menjadi fitur dan variabel target\n",
        "X = subset_data.drop(columns=['overall'])\n",
        "y = subset_data['overall']\n",
        "\n",
        "# Memisahkan data menjadi set latih dan uji\n",
        "X_train, X_test, y_train, y_test = train_test_split(X, y, test_size=0.2, random_state=42)"
      ]
    },
    {
      "cell_type": "markdown",
      "source": [
        "# **Latih Model Random Forest**"
      ],
      "metadata": {
        "id": "FBR29xCaQTAZ"
      }
    },
    {
      "cell_type": "code",
      "execution_count": 40,
      "metadata": {
        "colab": {
          "base_uri": "https://localhost:8080/",
          "height": 74
        },
        "id": "KhWdqgPvl5pD",
        "outputId": "3ebe894f-4e04-47c8-d8e8-76c72f9bc63e"
      },
      "outputs": [
        {
          "output_type": "execute_result",
          "data": {
            "text/plain": [
              "RandomForestRegressor(random_state=42)"
            ],
            "text/html": [
              "<style>#sk-container-id-4 {color: black;background-color: white;}#sk-container-id-4 pre{padding: 0;}#sk-container-id-4 div.sk-toggleable {background-color: white;}#sk-container-id-4 label.sk-toggleable__label {cursor: pointer;display: block;width: 100%;margin-bottom: 0;padding: 0.3em;box-sizing: border-box;text-align: center;}#sk-container-id-4 label.sk-toggleable__label-arrow:before {content: \"▸\";float: left;margin-right: 0.25em;color: #696969;}#sk-container-id-4 label.sk-toggleable__label-arrow:hover:before {color: black;}#sk-container-id-4 div.sk-estimator:hover label.sk-toggleable__label-arrow:before {color: black;}#sk-container-id-4 div.sk-toggleable__content {max-height: 0;max-width: 0;overflow: hidden;text-align: left;background-color: #f0f8ff;}#sk-container-id-4 div.sk-toggleable__content pre {margin: 0.2em;color: black;border-radius: 0.25em;background-color: #f0f8ff;}#sk-container-id-4 input.sk-toggleable__control:checked~div.sk-toggleable__content {max-height: 200px;max-width: 100%;overflow: auto;}#sk-container-id-4 input.sk-toggleable__control:checked~label.sk-toggleable__label-arrow:before {content: \"▾\";}#sk-container-id-4 div.sk-estimator input.sk-toggleable__control:checked~label.sk-toggleable__label {background-color: #d4ebff;}#sk-container-id-4 div.sk-label input.sk-toggleable__control:checked~label.sk-toggleable__label {background-color: #d4ebff;}#sk-container-id-4 input.sk-hidden--visually {border: 0;clip: rect(1px 1px 1px 1px);clip: rect(1px, 1px, 1px, 1px);height: 1px;margin: -1px;overflow: hidden;padding: 0;position: absolute;width: 1px;}#sk-container-id-4 div.sk-estimator {font-family: monospace;background-color: #f0f8ff;border: 1px dotted black;border-radius: 0.25em;box-sizing: border-box;margin-bottom: 0.5em;}#sk-container-id-4 div.sk-estimator:hover {background-color: #d4ebff;}#sk-container-id-4 div.sk-parallel-item::after {content: \"\";width: 100%;border-bottom: 1px solid gray;flex-grow: 1;}#sk-container-id-4 div.sk-label:hover label.sk-toggleable__label {background-color: #d4ebff;}#sk-container-id-4 div.sk-serial::before {content: \"\";position: absolute;border-left: 1px solid gray;box-sizing: border-box;top: 0;bottom: 0;left: 50%;z-index: 0;}#sk-container-id-4 div.sk-serial {display: flex;flex-direction: column;align-items: center;background-color: white;padding-right: 0.2em;padding-left: 0.2em;position: relative;}#sk-container-id-4 div.sk-item {position: relative;z-index: 1;}#sk-container-id-4 div.sk-parallel {display: flex;align-items: stretch;justify-content: center;background-color: white;position: relative;}#sk-container-id-4 div.sk-item::before, #sk-container-id-4 div.sk-parallel-item::before {content: \"\";position: absolute;border-left: 1px solid gray;box-sizing: border-box;top: 0;bottom: 0;left: 50%;z-index: -1;}#sk-container-id-4 div.sk-parallel-item {display: flex;flex-direction: column;z-index: 1;position: relative;background-color: white;}#sk-container-id-4 div.sk-parallel-item:first-child::after {align-self: flex-end;width: 50%;}#sk-container-id-4 div.sk-parallel-item:last-child::after {align-self: flex-start;width: 50%;}#sk-container-id-4 div.sk-parallel-item:only-child::after {width: 0;}#sk-container-id-4 div.sk-dashed-wrapped {border: 1px dashed gray;margin: 0 0.4em 0.5em 0.4em;box-sizing: border-box;padding-bottom: 0.4em;background-color: white;}#sk-container-id-4 div.sk-label label {font-family: monospace;font-weight: bold;display: inline-block;line-height: 1.2em;}#sk-container-id-4 div.sk-label-container {text-align: center;}#sk-container-id-4 div.sk-container {/* jupyter's `normalize.less` sets `[hidden] { display: none; }` but bootstrap.min.css set `[hidden] { display: none !important; }` so we also need the `!important` here to be able to override the default hidden behavior on the sphinx rendered scikit-learn.org. See: https://github.com/scikit-learn/scikit-learn/issues/21755 */display: inline-block !important;position: relative;}#sk-container-id-4 div.sk-text-repr-fallback {display: none;}</style><div id=\"sk-container-id-4\" class=\"sk-top-container\"><div class=\"sk-text-repr-fallback\"><pre>RandomForestRegressor(random_state=42)</pre><b>In a Jupyter environment, please rerun this cell to show the HTML representation or trust the notebook. <br />On GitHub, the HTML representation is unable to render, please try loading this page with nbviewer.org.</b></div><div class=\"sk-container\" hidden><div class=\"sk-item\"><div class=\"sk-estimator sk-toggleable\"><input class=\"sk-toggleable__control sk-hidden--visually\" id=\"sk-estimator-id-4\" type=\"checkbox\" checked><label for=\"sk-estimator-id-4\" class=\"sk-toggleable__label sk-toggleable__label-arrow\">RandomForestRegressor</label><div class=\"sk-toggleable__content\"><pre>RandomForestRegressor(random_state=42)</pre></div></div></div></div></div>"
            ]
          },
          "metadata": {},
          "execution_count": 40
        }
      ],
      "source": [
        "# Menginisialisasi dan melatih Random Forest Regressor\n",
        "rf_model = RandomForestRegressor(n_estimators=100, random_state=42)\n",
        "rf_model.fit(X_train, y_train)"
      ]
    },
    {
      "cell_type": "markdown",
      "source": [
        "# **Evaluasi Model**"
      ],
      "metadata": {
        "id": "_k6sJCj9QdIy"
      }
    },
    {
      "cell_type": "code",
      "execution_count": 41,
      "metadata": {
        "id": "l7_I8N2wl-pe",
        "colab": {
          "base_uri": "https://localhost:8080/"
        },
        "outputId": "780fbde1-d48e-4f87-d20d-a3aa14a6c30c"
      },
      "outputs": [
        {
          "output_type": "stream",
          "name": "stdout",
          "text": [
            "Mean Squared Error: 0.19351635553078855\n"
          ]
        }
      ],
      "source": [
        "# Memprediksi set tes\n",
        "y_pred = rf_model.predict(X_test)\n",
        "\n",
        "# Menghitung kesalahan kuadrat rata-rata\n",
        "mse = mean_squared_error(y_test, y_pred)\n",
        "print(f'Mean Squared Error: {mse}')"
      ]
    },
    {
      "cell_type": "markdown",
      "source": [
        "# **Prediksi Performa Berdasarkan Usia**"
      ],
      "metadata": {
        "id": "yWtj-T8bQlzP"
      }
    },
    {
      "cell_type": "code",
      "execution_count": 42,
      "metadata": {
        "id": "bNE5AeDymA6X",
        "colab": {
          "base_uri": "https://localhost:8080/"
        },
        "outputId": "4767ad5f-49f7-4078-e0b2-81f519eedabe"
      },
      "outputs": [
        {
          "output_type": "stream",
          "name": "stdout",
          "text": [
            "Predicted Overall Performance for Cristiano Ronaldo at age 40: 91.07\n"
          ]
        },
        {
          "output_type": "stream",
          "name": "stderr",
          "text": [
            "/usr/local/lib/python3.10/dist-packages/sklearn/base.py:439: UserWarning: X does not have valid feature names, but RandomForestRegressor was fitted with feature names\n",
            "  warnings.warn(\n"
          ]
        }
      ],
      "source": [
        "# Memprediksi Performa berdasarkan usia\n",
        "def predict_performance(age, height, weight, value, potential, pac, sho, pas, dri, def_, phy):\n",
        "    return rf_model.predict([[age, height, weight, value, potential, pac, sho, pas, dri, def_, phy]])\n",
        "\n",
        "# Contoh: Memprediksi performa Cristiano Ronaldo di usia 40 tahun\n",
        "features_pemain = subset_data[subset_data['age'] == 32].iloc[0]\n",
        "performa_pemain = predict_performance(40, features_pemain['height_cm'], features_pemain['weight_kg'],\n",
        "                                             features_pemain['eur_value'], features_pemain['potential'],\n",
        "                                             features_pemain['pac'], features_pemain['sho'], features_pemain['pas'],\n",
        "                                             features_pemain['dri'], features_pemain['def'], features_pemain['phy'])\n",
        "\n",
        "print(f'Predicted Overall Performance for Cristiano Ronaldo at age 40: {performa_pemain[0]}')"
      ]
    },
    {
      "cell_type": "code",
      "execution_count": 43,
      "metadata": {
        "id": "p07YTMI8mDMn",
        "colab": {
          "base_uri": "https://localhost:8080/",
          "height": 862
        },
        "outputId": "bc6785e6-1aa5-4008-e1c9-0a431a6ff252"
      },
      "outputs": [
        {
          "output_type": "stream",
          "name": "stderr",
          "text": [
            "/usr/local/lib/python3.10/dist-packages/sklearn/base.py:439: UserWarning: X does not have valid feature names, but RandomForestRegressor was fitted with feature names\n",
            "  warnings.warn(\n",
            "/usr/local/lib/python3.10/dist-packages/sklearn/base.py:439: UserWarning: X does not have valid feature names, but RandomForestRegressor was fitted with feature names\n",
            "  warnings.warn(\n",
            "/usr/local/lib/python3.10/dist-packages/sklearn/base.py:439: UserWarning: X does not have valid feature names, but RandomForestRegressor was fitted with feature names\n",
            "  warnings.warn(\n",
            "/usr/local/lib/python3.10/dist-packages/sklearn/base.py:439: UserWarning: X does not have valid feature names, but RandomForestRegressor was fitted with feature names\n",
            "  warnings.warn(\n",
            "/usr/local/lib/python3.10/dist-packages/sklearn/base.py:439: UserWarning: X does not have valid feature names, but RandomForestRegressor was fitted with feature names\n",
            "  warnings.warn(\n",
            "/usr/local/lib/python3.10/dist-packages/sklearn/base.py:439: UserWarning: X does not have valid feature names, but RandomForestRegressor was fitted with feature names\n",
            "  warnings.warn(\n",
            "/usr/local/lib/python3.10/dist-packages/sklearn/base.py:439: UserWarning: X does not have valid feature names, but RandomForestRegressor was fitted with feature names\n",
            "  warnings.warn(\n",
            "/usr/local/lib/python3.10/dist-packages/sklearn/base.py:439: UserWarning: X does not have valid feature names, but RandomForestRegressor was fitted with feature names\n",
            "  warnings.warn(\n"
          ]
        },
        {
          "output_type": "display_data",
          "data": {
            "text/plain": [
              "<Figure size 1000x600 with 1 Axes>"
            ],
            "image/png": "[encoded data removed]"
          },
          "metadata": {}
        }
      ],
      "source": [
        "# Memprediksi Performa pada rentang usia\n",
        "ages = list(range(32, 40))\n",
        "performa = [predict_performance(age, features_pemain['height_cm'], features_pemain['weight_kg'],\n",
        "                                    features_pemain['eur_value'], features_pemain['potential'],\n",
        "                                    features_pemain['pac'], features_pemain['sho'], features_pemain['pas'],\n",
        "                                    features_pemain['dri'], features_pemain['def'], features_pemain['phy'])[0]\n",
        "                for age in ages]\n",
        "\n",
        "# Plotting Performa seiring bertambahnya usia\n",
        "plt.figure(figsize=(10, 6))\n",
        "plt.plot(ages, performa, marker='o')\n",
        "plt.title('Prediksi Performa Cristiano Ronaldo Seiring Usia')\n",
        "plt.xlabel('Age')\n",
        "plt.ylabel('Overall Performa')\n",
        "plt.grid(True)\n",
        "plt.show()"
      ]
    }
  ],
  "metadata": {
    "colab": {
      "provenance": [],
      "include_colab_link": true
    },
    "kernelspec": {
      "display_name": "Python 3",
      "name": "python3"
    },
    "language_info": {
      "name": "python"
    }
  },
  "nbformat": 4,
  "nbformat_minor": 0
}