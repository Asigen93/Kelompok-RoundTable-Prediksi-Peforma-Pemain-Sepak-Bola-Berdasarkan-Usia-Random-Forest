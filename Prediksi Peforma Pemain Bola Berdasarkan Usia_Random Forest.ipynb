{
  "nbformat": 4,
  "nbformat_minor": 0,
  "metadata": {
    "colab": {
      "provenance": [],
      "mount_file_id": "1U3qF0tYzta1OgDwNbidzLXGQzw1lTgLX",
      "authorship_tag": "ABX9TyNwJCfyqietvgsEVL2CbwRa",
      "include_colab_link": true
    },
    "kernelspec": {
      "name": "python3",
      "display_name": "Python 3"
    },
    "language_info": {
      "name": "python"
    }
  },
  "cells": [
    {
      "cell_type": "markdown",
      "metadata": {
        "id": "view-in-github",
        "colab_type": "text"
      },
      "source": [
        "<a href=\"https://colab.research.google.com/github/Asigen93/Kelompok-RoundTable-Prediksi-Peforma-Pemain-Sepak-Bola-Berdasarkan-Usia-Random-Forest/blob/main/Prediksi%20Peforma%20Pemain%20Bola%20Berdasarkan%20Usia_Random%20Forest.ipynb\" target=\"_parent\"><img src=\"https://colab.research.google.com/assets/colab-badge.svg\" alt=\"Open In Colab\"/></a>"
      ]
    },
    {
      "cell_type": "markdown",
      "source": [
        "# **KELOMPOK RoundTable**\n",
        "1. Ahmad Sudrajat Dani Kalami\n",
        "2. Danish Fahmi Anugrah\n",
        "3. Teguh Chandra Baskara\n",
        "4. Tirta Romadhon Cipta Saputra\n",
        "\n",
        "Case yang kami angkat adalah \"Prediksi Performa Pemain Berdasarkan Usia\" kami menggunakan dataset fifa 18 yang kemudian kami olah dengan menggunakan algoritma \"Random Forest\" dengan diharapkan hasil yang diperoleh yaitu apakah performa pemain berpengaruh dengan usia mereka?\n"
      ],
      "metadata": {
        "id": "9XcwgaNvn8bc"
      }
    },
    {
      "cell_type": "markdown",
      "source": [
        "# **Import Library**"
      ],
      "metadata": {
        "id": "Hf5WmHlQskhP"
      }
    },
    {
      "cell_type": "code",
      "execution_count": 260,
      "metadata": {
        "id": "ZF6-IxPCrTBK"
      },
      "outputs": [],
      "source": [
        "import pandas as pd\n",
        "import numpy as np\n",
        "from sklearn.ensemble import RandomForestRegressor\n",
        "import matplotlib.pyplot as plt"
      ]
    },
    {
      "cell_type": "markdown",
      "source": [
        "# **Sesuaikan dengan Path Dataset yang digunakan**"
      ],
      "metadata": {
        "id": "BIU42Ci0s6zA"
      }
    },
    {
      "cell_type": "code",
      "source": [
        "import pandas as pd\n",
        "\n",
        "# Load the CSV file\n",
        "csv_file_path = 'complete.csv'\n",
        "data = pd.read_csv(csv_file_path, delimiter=';')"
      ],
      "metadata": {
        "id": "znZXyJi9N6Ee",
        "colab": {
          "base_uri": "https://localhost:8080/"
        },
        "outputId": "bff8ce55-29bc-42bf-a803-a7eb43a4a360"
      },
      "execution_count": 261,
      "outputs": [
        {
          "output_type": "stream",
          "name": "stderr",
          "text": [
            "<ipython-input-261-862bdbc45abf>:5: DtypeWarning: Columns (16,18) have mixed types. Specify dtype option on import or set low_memory=False.\n",
            "  data = pd.read_csv(csv_file_path, delimiter=';')\n"
          ]
        }
      ]
    },
    {
      "cell_type": "markdown",
      "source": [
        "## **Pendefinisian Fitur dan Target**\n",
        "\n",
        "**Memilih beberapa kolom yang tepat dari dataset dan menyusunnya dalam sebuah dataframe, serta menetapkan target prediksi performa pemain secara keseluruhan**"
      ],
      "metadata": {
        "id": "5tL4wxU0hGlA"
      }
    },
    {
      "cell_type": "code",
      "source": [
        "features = ['age', 'height_cm', 'weight_kg', 'eur_value', 'overall', 'potential', 'pac', 'sho', 'pas', 'dri', 'def', 'phy']\n",
        "target = 'overall'  # Prediksi performa pemain secara keseluruhan\n",
        "\n",
        "# Membuat dataframe dengan kolom yang dipilih\n",
        "df = data[features].dropna()"
      ],
      "metadata": {
        "id": "POxH8019Vgkw"
      },
      "execution_count": 262,
      "outputs": []
    },
    {
      "cell_type": "markdown",
      "source": [
        "# **Pembagian Dataset untuk Pelatihan dan Pengujian**\n",
        "\n",
        "**Membagi data menjadi set pelatihan dan set pengujian. Variabel X berisi fitur-fitur dari dataset, sedangkan y berisi target. Data dibagi dengan proporsi 80% untuk pelatihan dan 20% untuk pengujian. random_state=42 digunakan untuk memastikan hasil pembagian yang konsisten.**"
      ],
      "metadata": {
        "id": "eoTsKbXkiDU-"
      }
    },
    {
      "cell_type": "code",
      "source": [
        "from sklearn.model_selection import train_test_split\n",
        "\n",
        "X = df.drop(columns=[target])\n",
        "y = df[target]\n",
        "\n",
        "X_train, X_test, y_train, y_test = train_test_split(X, y, test_size=0.2, random_state=42)"
      ],
      "metadata": {
        "id": "2VgzUkdgVk2H"
      },
      "execution_count": 263,
      "outputs": []
    },
    {
      "cell_type": "code",
      "source": [
        "# Cek tipe data setiap kolom\n",
        "print(X_train.dtypes)\n"
      ],
      "metadata": {
        "colab": {
          "base_uri": "https://localhost:8080/"
        },
        "id": "zoPhB4UpWYtZ",
        "outputId": "0ca478dd-c155-4ff8-c742-3b67f3fddeb1"
      },
      "execution_count": 264,
      "outputs": [
        {
          "output_type": "stream",
          "name": "stdout",
          "text": [
            "age            int64\n",
            "height_cm    float64\n",
            "weight_kg    float64\n",
            "eur_value     object\n",
            "potential      int64\n",
            "pac            int64\n",
            "sho            int64\n",
            "pas            int64\n",
            "dri            int64\n",
            "def            int64\n",
            "phy            int64\n",
            "dtype: object\n"
          ]
        }
      ]
    },
    {
      "cell_type": "code",
      "source": [
        "# Cek contoh nilai dalam kolom yang diduga akan terjadi masalah\n",
        "print(X_train['eur_value'].unique())"
      ],
      "metadata": {
        "colab": {
          "base_uri": "https://localhost:8080/"
        },
        "id": "9qAbFu-sWmG4",
        "outputId": "e277177b-ebec-4007-e739-d7c45142b221"
      },
      "execution_count": 265,
      "outputs": [
        {
          "output_type": "stream",
          "name": "stdout",
          "text": [
            "[350000.0 200000.0 '1000000.0' '4400000.0' '5500000.0' 290000.0 450000.0\n",
            " '1300000.0' '1600000.0' 575000.0 '8500000.0' 625000.0 725000.0 '950000.0'\n",
            " '2500000.0' '500000.0' 140000.0 120000.0 80000.0 100000.0 240000.0\n",
            " 230000.0 900000.0 325000.0 50000.0 '3400000.0' '675000.0' 375000.0\n",
            " '4500000.0' '10500000.0' '4900000.0' '7000000.0' '1800000.0' '16500000.0'\n",
            " 475000.0 1000000.0 850000.0 130000.0 '6000000.0' '23000000.0' 60000.0\n",
            " 90000.0 825000.0 700000.0 '800000.0' '375000.0' 180000.0 '525000.0'\n",
            " '750000.0' '900000.0' 925000.0 '3900000.0' 975000.0 425000.0 '8000000.0'\n",
            " '12000000.0' 875000.0 '825000.0' '2000000.0' '21500000.0' 675000.0\n",
            " '2200000.0' '1100000.0' '3100000.0' '3000000.0' 650000.0 '775000.0'\n",
            " '2300000.0' 775000.0 '575000.0' '3200000.0' 250000.0 280000.0\n",
            " '10000000.0' 750000.0 260000.0 '550000.0' '1500000.0' 1700000.0 525000.0\n",
            " 220000.0 '1200000.0' 400000.0 '975000.0' '2800000.0' '1400000.0'\n",
            " '2100000.0' 800000.0 1200000.0 '9500000.0' '2600000.0' '5000000.0'\n",
            " 500000.0 950000.0 190000.0 '14500000.0' 270000.0 210000.0 110000.0\n",
            " '7500000.0' '1700000.0' '2400000.0' '700000.0' '1900000.0' 160000.0\n",
            " '6500000.0' '3300000.0' 300000.0 '850000.0' 0.0 1100000.0 '3800000.0'\n",
            " 150000.0 70000.0 '17000000.0' '17500000.0' '4000000.0' '11500000.0'\n",
            " 550000.0 '3600000.0' '140000.0' '15000000.0' '40.999.999.999.999.900'\n",
            " '9000000.0' '48000000.0' 170000.0 '11000000.0' 40000.0 '26000000.0'\n",
            " '46000000.0' 600000.0 '650000.0' '425000.0' '925000.0' '875000.0'\n",
            " '4600000.0' '4700000.0' '22500000.0' '2900000.0' '3500000.0' '350000.0'\n",
            " '34500000.0' '4800000.0' '13500000.0' '725000.0' '2700000.0' '3700000.0'\n",
            " '450000.0' '20500000.0' '52500000.0' '24000000.0' '4200000.0' '0.0'\n",
            " '12500000.0' '4300000.0' '34000000.0' '18000000.0' '31500000.0'\n",
            " '19000000.0' '325000.0' '20000000.0' '625000.0' '19500000.0' '13000000.0'\n",
            " '21000000.0' '600000.0' '57000000.0' 30000.0 '15500000.0' '25500000.0'\n",
            " '43000000.0' '14000000.0' '475000.0' '38000000.0' 10000.0 '240000.0'\n",
            " '69500000.0' '46500000.0' '25000000.0' '400000.0' '100000.0' '30000000.0'\n",
            " 1300000.0 '120000.0' 1600000.0 '180000.0' '29000000.0' '24500000.0'\n",
            " '30500000.0' '28000000.0' '160000.0' '16000000.0' '190000.0' '32000000.0'\n",
            " '65000000.0' '22000000.0' '18500000.0' '41000000.0' '45000000.0'\n",
            " 1400000.0 '29500000.0' '270000.0' '250000.0' '61000000.0' '280000.0'\n",
            " '43500000.0' '230000.0' '44000000.0' '35500000.0' '37500000.0'\n",
            " '26500000.0' '52000000.0' '36000000.0' '50000.0' '31000000.0'\n",
            " '35000000.0' '40500000.0' '38500000.0' '27500000.0' '75000000.0'\n",
            " '44500000.0' '33000000.0' '59000000.0' '70000.0' '60000000.0'\n",
            " '47500000.0' '56500000.0' '23500000.0' '60000.0' '300000.0' '51500000.0'\n",
            " 20000.0 '40000000.0' '105000000.0' '290000.0' '28500000.0' '48500000.0'\n",
            " '51000000.0' '210000.0' '27000000.0' '123000000.0' '37000000.0'\n",
            " '32500000.0' '64500000.0' '90500000.0' '70500000.0' '66500000.0'\n",
            " '42000000.0' '83000000.0' '67500000.0' '39000000.0' '77000000.0'\n",
            " 1500000.0]\n"
          ]
        }
      ]
    },
    {
      "cell_type": "markdown",
      "source": [
        "# **Membersihkan Kolom Numerik**\n",
        "\n",
        "**membersihkan kolom numerik dengan menghapus tanda titik dan koma, lalu mengonversinya menjadi tipe data float pada dataset X_train dan X_test.**"
      ],
      "metadata": {
        "id": "q0V74HNbk928"
      }
    },
    {
      "cell_type": "code",
      "source": [
        "def clean_numeric_column(column):\n",
        "    return column.replace('[\\.,]', '', regex=True).astype(float)\n",
        "\n",
        "X_train['eur_value'] = clean_numeric_column(X_train['eur_value'])\n",
        "X_test['eur_value'] = clean_numeric_column(X_test['eur_value'])"
      ],
      "metadata": {
        "id": "3HMkkItxWs9W"
      },
      "execution_count": 266,
      "outputs": []
    },
    {
      "cell_type": "markdown",
      "source": [
        "# **Pelatihan Model Random Forest**\n",
        "\n",
        "**Membuat model regresi Random Forest dengan 100 pohon keputusan (estimator), kemudian melatih model tersebut menggunakan data pelatihan yang disediakan.**"
      ],
      "metadata": {
        "id": "RJ9fpl_NlFYm"
      }
    },
    {
      "cell_type": "code",
      "source": [
        "from sklearn.ensemble import RandomForestRegressor\n",
        "\n",
        "model = RandomForestRegressor(n_estimators=100, random_state=0)\n",
        "model.fit(X_train, y_train)"
      ],
      "metadata": {
        "colab": {
          "base_uri": "https://localhost:8080/",
          "height": 74
        },
        "id": "yzMxYHNuXCU7",
        "outputId": "2641fb13-154a-41e8-cc2f-b238c053525f"
      },
      "execution_count": 267,
      "outputs": [
        {
          "output_type": "execute_result",
          "data": {
            "text/plain": [
              "RandomForestRegressor(random_state=0)"
            ],
            "text/html": [
              "<style>#sk-container-id-19 {color: black;background-color: white;}#sk-container-id-19 pre{padding: 0;}#sk-container-id-19 div.sk-toggleable {background-color: white;}#sk-container-id-19 label.sk-toggleable__label {cursor: pointer;display: block;width: 100%;margin-bottom: 0;padding: 0.3em;box-sizing: border-box;text-align: center;}#sk-container-id-19 label.sk-toggleable__label-arrow:before {content: \"▸\";float: left;margin-right: 0.25em;color: #696969;}#sk-container-id-19 label.sk-toggleable__label-arrow:hover:before {color: black;}#sk-container-id-19 div.sk-estimator:hover label.sk-toggleable__label-arrow:before {color: black;}#sk-container-id-19 div.sk-toggleable__content {max-height: 0;max-width: 0;overflow: hidden;text-align: left;background-color: #f0f8ff;}#sk-container-id-19 div.sk-toggleable__content pre {margin: 0.2em;color: black;border-radius: 0.25em;background-color: #f0f8ff;}#sk-container-id-19 input.sk-toggleable__control:checked~div.sk-toggleable__content {max-height: 200px;max-width: 100%;overflow: auto;}#sk-container-id-19 input.sk-toggleable__control:checked~label.sk-toggleable__label-arrow:before {content: \"▾\";}#sk-container-id-19 div.sk-estimator input.sk-toggleable__control:checked~label.sk-toggleable__label {background-color: #d4ebff;}#sk-container-id-19 div.sk-label input.sk-toggleable__control:checked~label.sk-toggleable__label {background-color: #d4ebff;}#sk-container-id-19 input.sk-hidden--visually {border: 0;clip: rect(1px 1px 1px 1px);clip: rect(1px, 1px, 1px, 1px);height: 1px;margin: -1px;overflow: hidden;padding: 0;position: absolute;width: 1px;}#sk-container-id-19 div.sk-estimator {font-family: monospace;background-color: #f0f8ff;border: 1px dotted black;border-radius: 0.25em;box-sizing: border-box;margin-bottom: 0.5em;}#sk-container-id-19 div.sk-estimator:hover {background-color: #d4ebff;}#sk-container-id-19 div.sk-parallel-item::after {content: \"\";width: 100%;border-bottom: 1px solid gray;flex-grow: 1;}#sk-container-id-19 div.sk-label:hover label.sk-toggleable__label {background-color: #d4ebff;}#sk-container-id-19 div.sk-serial::before {content: \"\";position: absolute;border-left: 1px solid gray;box-sizing: border-box;top: 0;bottom: 0;left: 50%;z-index: 0;}#sk-container-id-19 div.sk-serial {display: flex;flex-direction: column;align-items: center;background-color: white;padding-right: 0.2em;padding-left: 0.2em;position: relative;}#sk-container-id-19 div.sk-item {position: relative;z-index: 1;}#sk-container-id-19 div.sk-parallel {display: flex;align-items: stretch;justify-content: center;background-color: white;position: relative;}#sk-container-id-19 div.sk-item::before, #sk-container-id-19 div.sk-parallel-item::before {content: \"\";position: absolute;border-left: 1px solid gray;box-sizing: border-box;top: 0;bottom: 0;left: 50%;z-index: -1;}#sk-container-id-19 div.sk-parallel-item {display: flex;flex-direction: column;z-index: 1;position: relative;background-color: white;}#sk-container-id-19 div.sk-parallel-item:first-child::after {align-self: flex-end;width: 50%;}#sk-container-id-19 div.sk-parallel-item:last-child::after {align-self: flex-start;width: 50%;}#sk-container-id-19 div.sk-parallel-item:only-child::after {width: 0;}#sk-container-id-19 div.sk-dashed-wrapped {border: 1px dashed gray;margin: 0 0.4em 0.5em 0.4em;box-sizing: border-box;padding-bottom: 0.4em;background-color: white;}#sk-container-id-19 div.sk-label label {font-family: monospace;font-weight: bold;display: inline-block;line-height: 1.2em;}#sk-container-id-19 div.sk-label-container {text-align: center;}#sk-container-id-19 div.sk-container {/* jupyter's `normalize.less` sets `[hidden] { display: none; }` but bootstrap.min.css set `[hidden] { display: none !important; }` so we also need the `!important` here to be able to override the default hidden behavior on the sphinx rendered scikit-learn.org. See: https://github.com/scikit-learn/scikit-learn/issues/21755 */display: inline-block !important;position: relative;}#sk-container-id-19 div.sk-text-repr-fallback {display: none;}</style><div id=\"sk-container-id-19\" class=\"sk-top-container\"><div class=\"sk-text-repr-fallback\"><pre>RandomForestRegressor(random_state=0)</pre><b>In a Jupyter environment, please rerun this cell to show the HTML representation or trust the notebook. <br />On GitHub, the HTML representation is unable to render, please try loading this page with nbviewer.org.</b></div><div class=\"sk-container\" hidden><div class=\"sk-item\"><div class=\"sk-estimator sk-toggleable\"><input class=\"sk-toggleable__control sk-hidden--visually\" id=\"sk-estimator-id-19\" type=\"checkbox\" checked><label for=\"sk-estimator-id-19\" class=\"sk-toggleable__label sk-toggleable__label-arrow\">RandomForestRegressor</label><div class=\"sk-toggleable__content\"><pre>RandomForestRegressor(random_state=0)</pre></div></div></div></div></div>"
            ]
          },
          "metadata": {},
          "execution_count": 267
        }
      ]
    },
    {
      "cell_type": "markdown",
      "source": [
        "# **Evaluasi Model Regresi**\n",
        "\n",
        "**Menghitung beberapa metrik evaluasi untuk model yang telah diprediksi terhadap data uji, termasuk Mean Absolute Error (MAE), Mean Squared Error (MSE), Root Mean Squared Error (RMSE), dan R-squared score.**"
      ],
      "metadata": {
        "id": "QZT9lQg5ltNA"
      }
    },
    {
      "cell_type": "code",
      "source": [
        "from sklearn.metrics import mean_absolute_error, mean_squared_error, r2_score\n",
        "\n",
        "y_pred = model.predict(X_test)\n",
        "\n",
        "mae = mean_absolute_error(y_test, y_pred)\n",
        "mse = mean_squared_error(y_test, y_pred)\n",
        "rmse = mean_squared_error(y_test, y_pred, squared=False)\n",
        "r2 = r2_score(y_test, y_pred)\n",
        "\n",
        "print(f'MAE: {mae}')\n",
        "print(f'MSE: {mse}')\n",
        "print(f'RMSE: {rmse}')\n",
        "print(f'R-squared: {r2}')"
      ],
      "metadata": {
        "colab": {
          "base_uri": "https://localhost:8080/"
        },
        "id": "G611OQw_XGvs",
        "outputId": "ede00b97-3efb-4d39-8c6a-20677293506b"
      },
      "execution_count": 268,
      "outputs": [
        {
          "output_type": "stream",
          "name": "stdout",
          "text": [
            "MAE: 0.250828007779939\n",
            "MSE: 0.21319913864962486\n",
            "RMSE: 0.46173492249300885\n",
            "R-squared: 0.9955754808118878\n"
          ]
        }
      ]
    },
    {
      "cell_type": "markdown",
      "source": [
        "# **Pencarian Parameter Terbaik untuk Model Menggunakan Grid Search**\n",
        "\n",
        "**Menggunakan GridSearchCV untuk mencari kombinasi terbaik dari hyperparameter model. Dengan mendefinisikan param_grid, kita dapat mengevaluasi berbagai kombinasi parameter menggunakan validasi silang (cross-validation) untuk meningkatkan performa model pada data yang dilatih.**"
      ],
      "metadata": {
        "id": "uU6-DsbbmI9W"
      }
    },
    {
      "cell_type": "code",
      "source": [
        "from sklearn.model_selection import GridSearchCV\n",
        "\n",
        "param_grid = {\n",
        "    'n_estimators': [100],\n",
        "    'max_features': ['sqrt','log2'],\n",
        "    'max_depth': [None, 10],\n",
        "    'min_samples_split': [2],\n",
        "    'min_samples_leaf': [1]\n",
        "}\n",
        "\n",
        "grid_search = GridSearchCV(estimator=model, param_grid=param_grid, cv=2, n_jobs=-1, verbose=2)\n",
        "grid_search.fit(X_train, y_train)\n",
        "\n",
        "print(f'Best Parameters: {grid_search.best_params_}')"
      ],
      "metadata": {
        "id": "uOusOgebXOZn",
        "outputId": "8d2ea1bd-c59c-4725-dad9-60caebd5c135",
        "colab": {
          "base_uri": "https://localhost:8080/"
        }
      },
      "execution_count": 269,
      "outputs": [
        {
          "output_type": "stream",
          "name": "stdout",
          "text": [
            "Fitting 2 folds for each of 4 candidates, totalling 8 fits\n",
            "Best Parameters: {'max_depth': None, 'max_features': 'sqrt', 'min_samples_leaf': 1, 'min_samples_split': 2, 'n_estimators': 100}\n"
          ]
        }
      ]
    },
    {
      "cell_type": "markdown",
      "source": [
        "# **Mengoptimalkan Model dan Evaluasi Kinerja**\n",
        "\n",
        "**Menggunakan model terbaik yang diperoleh dari grid search untuk melatih data pelatihan dan kemudian menguji kinerjanya pada data pengujian.**"
      ],
      "metadata": {
        "id": "Q5q9dmz0rDTu"
      }
    },
    {
      "cell_type": "code",
      "source": [
        "best_model = grid_search.best_estimator_\n",
        "best_model.fit(X_train, y_train)\n",
        "\n",
        "y_pred_best = best_model.predict(X_test)\n",
        "\n",
        "mae_best = mean_absolute_error(y_test, y_pred_best)\n",
        "mse_best = mean_squared_error(y_test, y_pred_best)\n",
        "rmse_best = mean_squared_error(y_test, y_pred_best, squared=False)\n",
        "r2_best = r2_score(y_test, y_pred_best)\n",
        "\n",
        "print(f'Optimized MAE: {mae_best}')\n",
        "print(f'Optimized MSE: {mse_best}')\n",
        "print(f'Optimized RMSE: {rmse_best}')\n",
        "print(f'Optimized R-squared: {r2_best}')"
      ],
      "metadata": {
        "colab": {
          "base_uri": "https://localhost:8080/"
        },
        "id": "2FMEDlAbpW1i",
        "outputId": "4d5c3eb6-7682-4dc9-e45c-2e3f4a1aca90"
      },
      "execution_count": 270,
      "outputs": [
        {
          "output_type": "stream",
          "name": "stdout",
          "text": [
            "Optimized MAE: 0.397154765212559\n",
            "Optimized MSE: 0.328845123645457\n",
            "Optimized RMSE: 0.5734501928201411\n",
            "Optimized R-squared: 0.99317548106103\n"
          ]
        }
      ]
    },
    {
      "cell_type": "markdown",
      "source": [
        "# **VISUALIASI HASIL**"
      ],
      "metadata": {
        "id": "2yVu6e3urhPH"
      }
    },
    {
      "cell_type": "code",
      "source": [
        "import matplotlib.pyplot as plt\n",
        "import seaborn as sns\n",
        "\n",
        "plt.figure(figsize=(10, 6))\n",
        "sns.scatterplot(x='age', y='overall', data=df)\n",
        "plt.title('Hubungan Usia dan Performa Pemain')\n",
        "plt.xlabel('Usia')\n",
        "plt.ylabel('Performa')\n",
        "plt.show()"
      ],
      "metadata": {
        "colab": {
          "base_uri": "https://localhost:8080/",
          "height": 564
        },
        "id": "bB6zZM0bwgOE",
        "outputId": "cc8637e1-31c9-4253-8038-a186da6ef2c1"
      },
      "execution_count": 271,
      "outputs": [
        {
          "output_type": "display_data",
          "data": {
            "text/plain": [
              "<Figure size 1000x600 with 1 Axes>"
            ],
            "image/png": "[encoded data removed]"
          },
          "metadata": {}
        }
      ]
    },
    {
      "cell_type": "code",
      "source": [
        "def prediksi_performa(model, data, nama_pemain, usia_baru):\n",
        "    # Cari data pemain berdasarkan nama\n",
        "    if 'name' in data.columns:\n",
        "        pemain_data = data[data['name'] == nama_pemain]\n",
        "\n",
        "        if not pemain_data.empty:\n",
        "            # Ambil fitur yang diperlukan dari data pemain\n",
        "            height_cm = pemain_data['height_cm'].values[0]\n",
        "            weight_kg = pemain_data['weight_kg'].values[0]\n",
        "            eur_value = pemain_data['eur_value'].values[0]\n",
        "            overall = pemain_data['overall'].values[0]\n",
        "            potential = pemain_data['potential'].values[0]\n",
        "            pac = pemain_data['pac'].values[0]\n",
        "            sho = pemain_data['sho'].values[0]\n",
        "            pas = pemain_data['pas'].values[0]\n",
        "            dri = pemain_data['dri'].values[0]\n",
        "            phy = pemain_data['phy'].values[0]\n",
        "\n",
        "            # Buat array fitur untuk pemain pada usia baru\n",
        "            pemain_fitur_baru = np.array([[usia_baru, height_cm, weight_kg, eur_value, overall, potential, pac, sho, pas, dri, phy]])\n",
        "\n",
        "            # Prediksi kinerja pemain menggunakan model\n",
        "            pemain_prediksi_performa = model.predict(pemain_fitur_baru)\n",
        "\n",
        "            # Kembalikan hasil prediksi\n",
        "            return pemain_prediksi_performa[0]\n",
        "        else:\n",
        "            return f\"Pemain dengan nama {nama_pemain} tidak ditemukan dalam dataset.\"\n",
        "    else:\n",
        "        return \"Kolom 'name' tidak ditemukan dalam dataset.\""
      ],
      "metadata": {
        "id": "pHP3uunODY7H"
      },
      "execution_count": 272,
      "outputs": []
    },
    {
      "cell_type": "code",
      "source": [
        "prediksi = prediksi_performa(model, data, 'Neymar', 43)\n",
        "print(f\"Prediksi performa Neymar pada usia 43 tahun: {prediksi}\")"
      ],
      "metadata": {
        "id": "mgTEYVHcDb4M",
        "outputId": "1d8103d0-31f1-4b3a-fab6-0abfc72bd5c5",
        "colab": {
          "base_uri": "https://localhost:8080/"
        }
      },
      "execution_count": 273,
      "outputs": [
        {
          "output_type": "stream",
          "name": "stdout",
          "text": [
            "Prediksi performa Neymar pada usia 43 tahun: 84.72\n"
          ]
        },
        {
          "output_type": "stream",
          "name": "stderr",
          "text": [
            "/usr/local/lib/python3.10/dist-packages/sklearn/base.py:439: UserWarning: X does not have valid feature names, but RandomForestRegressor was fitted with feature names\n",
            "  warnings.warn(\n"
          ]
        }
      ]
    }
  ]
}